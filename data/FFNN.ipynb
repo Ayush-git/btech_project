{
 "cells": [
  {
   "cell_type": "code",
   "execution_count": null,
   "metadata": {},
   "outputs": [],
   "source": [
    "import os\n",
    "import glob\n",
    "import numpy as np\n",
    "from keras.models import Sequential\n",
    "from keras.layers import Dense, Activation\n",
    "from datetime import datetime\n",
    "import math\n",
    "from sklearn.preprocessing import MinMaxScaler, StandardScaler\n",
    "from sklearn.metrics import mean_squared_error\n",
    "import pandas as pd\n",
    "import matplotlib.pyplot as plt\n",
    "from utils import *\n",
    "%matplotlib inline"
   ]
  },
  {
   "cell_type": "code",
   "execution_count": null,
   "metadata": {
    "collapsed": true
   },
   "outputs": [],
   "source": [
    "def get_30min_wise_data(day_data):\n",
    "    '''Returns time, day and load values for each 30mins of day_data in a numpy matrix'''\n",
    "    data = []\n",
    "    for i in range(0, 288, 6):\n",
    "#         time = day_data[i][0]\n",
    "        load = day_data[i][1]\n",
    "        day = day_data[i][2].weekday()\n",
    "        data.append([i, day, load])\n",
    "    return np.asarray(data)"
   ]
  },
  {
   "cell_type": "code",
   "execution_count": null,
   "metadata": {
    "collapsed": true
   },
   "outputs": [],
   "source": [
    "def get_date_data(date_path):\n",
    "    '''read csv data at date_path and return it in a numpy matrix'''\n",
    "    temp = pd.read_csv(date_path)\n",
    "    date_ = date_path.split('/')[-1][:-4] # get date of '01-10-2017' format\n",
    "    temp['date'] = datetime.strptime(date_, \"%d-%m-%Y\").date()\n",
    "    temp = extract_dt(temp)\n",
    "    return temp.as_matrix()"
   ]
  },
  {
   "cell_type": "code",
   "execution_count": null,
   "metadata": {
    "collapsed": true
   },
   "outputs": [],
   "source": [
    "def get_data():\n",
    "    '''Return data of all csv files in SLDC_Data/ folder in matrix form'''\n",
    "    data = []\n",
    "    for date_path in glob.glob('SLDC_Data/*/*/*.csv'):\n",
    "        try:\n",
    "            date_data = get_date_data(date_path)\n",
    "            temp = get_30min_wise_data(date_data)\n",
    "            data.append(temp)\n",
    "        except Exception as e:\n",
    "            print(date_path, e)\n",
    "    data = np.asarray(data)\n",
    "    data = data.reshape(-1, 3)\n",
    "    np.random.shuffle(data)\n",
    "    return data"
   ]
  },
  {
   "cell_type": "code",
   "execution_count": null,
   "metadata": {},
   "outputs": [],
   "source": [
    "# data preprocessing\n",
    "data = get_data()\n",
    "X = data[:, :-1] # features\n",
    "Y = data[:, -1].reshape(-1, 1) # load, reshaped to 2D"
   ]
  },
  {
   "cell_type": "code",
   "execution_count": null,
   "metadata": {},
   "outputs": [],
   "source": [
    "# rescale the data to 0-1 values\n",
    "feature_scaler = MinMaxScaler(feature_range=(0, 1))\n",
    "load_scaler = MinMaxScaler(feature_range=(0, 1)) #StandardScaler()\n",
    "X = feature_scaler.fit_transform(X)\n",
    "Y = load_scaler.fit_transform(Y)"
   ]
  },
  {
   "cell_type": "code",
   "execution_count": null,
   "metadata": {},
   "outputs": [],
   "source": [
    "X.shape, Y.shape"
   ]
  },
  {
   "cell_type": "code",
   "execution_count": null,
   "metadata": {
    "collapsed": true
   },
   "outputs": [],
   "source": [
    "def getModel():\n",
    "    model = Sequential()\n",
    "    model.add(Dense(32, input_shape=(2, )))\n",
    "    model.add(Activation('relu'))\n",
    "    model.add(Dense(32, input_shape=(2, )))\n",
    "    model.add(Activation('relu'))\n",
    "    model.add(Dense(1, activation='sigmoid'))\n",
    "    model.compile(loss='mse', optimizer='adam')\n",
    "    print(model.summary())\n",
    "    return model"
   ]
  },
  {
   "cell_type": "code",
   "execution_count": null,
   "metadata": {},
   "outputs": [],
   "source": [
    "model = getModel()"
   ]
  },
  {
   "cell_type": "code",
   "execution_count": null,
   "metadata": {},
   "outputs": [],
   "source": [
    "model.fit(X, Y, batch_size=32, epochs=50, verbose=1, validation_split=0.2, shuffle=True)"
   ]
  },
  {
   "cell_type": "code",
   "execution_count": null,
   "metadata": {
    "collapsed": true
   },
   "outputs": [],
   "source": [
    "preds = model.predict(X)\n",
    "preds = load_scaler.inverse_transform(preds)\n",
    "Y_ = load_scaler.inverse_transform(Y)"
   ]
  },
  {
   "cell_type": "code",
   "execution_count": null,
   "metadata": {},
   "outputs": [],
   "source": [
    "x = np.random.randint(len(preds))\n",
    "print(x,x+500)\n",
    "plt.plot(range(len(preds[x:x+500])), preds[x:x+500])\n",
    "plt.plot(range(len(Y_[x:x+500])), Y_[x:x+500])\n",
    "plt.legend(['preds', 'Y_'])\n",
    "plt.show()"
   ]
  },
  {
   "cell_type": "code",
   "execution_count": null,
   "metadata": {
    "collapsed": true
   },
   "outputs": [],
   "source": []
  }
 ],
 "metadata": {
  "kernelspec": {
   "display_name": "Python [conda env:ML]",
   "language": "python",
   "name": "conda-env-ML-py"
  },
  "language_info": {
   "codemirror_mode": {
    "name": "ipython",
    "version": 3
   },
   "file_extension": ".py",
   "mimetype": "text/x-python",
   "name": "python",
   "nbconvert_exporter": "python",
   "pygments_lexer": "ipython3",
   "version": "3.5.4"
  },
  "widgets": {
   "state": {},
   "version": "1.1.2"
  }
 },
 "nbformat": 4,
 "nbformat_minor": 2
}
